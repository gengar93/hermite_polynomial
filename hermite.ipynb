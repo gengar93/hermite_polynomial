{
 "cells": [
  {
   "cell_type": "markdown",
   "metadata": {},
   "source": [
    "# Hermite Polynomials\n",
    "\n",
    "Often appearing in physics, hermite polynomials are numbered polynomials. The first few of them are\n",
    "\n",
    "$$\n",
    "\\begin{align}\n",
    "h_0(x) &= 1 \\\\\n",
    "h_1(x) &= 2x \\\\\n",
    "h_2(x) &= 4x^2 - 2 \\\\\n",
    "\\end{align}\n",
    "$$\n",
    "\n",
    "Given $h_n(x)$, the $n^{\\text{th}}$ hermite polynomial, the next hermite polynimial is given by the recursive relation\n",
    "\n",
    "$$\n",
    "h_{n+1}(x) = 2x h_n(x) - h'_{n}(x)\n",
    "$$\n",
    "\n",
    "Matrices are very useful to represent linear transformations. While differentiation and multiplication with a polynomial can be done in linear time while a matrix takes quadratic time, use of matrices pays off when dealing with operators that generate higher polynomials. \n",
    "\n",
    "For example, given $h_n(x)$, to find $h_{n + 30}(x)$, applying the operator repeatedly is time consuming. However, finding the correspnding operator"
   ]
  },
  {
   "cell_type": "code",
   "execution_count": 58,
   "metadata": {
    "collapsed": true
   },
   "outputs": [],
   "source": [
    "import numpy as np\n",
    "import matplotlib.pyplot as plt"
   ]
  },
  {
   "cell_type": "code",
   "execution_count": 59,
   "metadata": {
    "collapsed": true
   },
   "outputs": [],
   "source": [
    "# computing the matrix to find next hermite polynomial\n",
    "n = 50 # the order of matrix\n",
    "m = np.matrix([[0] * n for i in range(n)]) # a null matrix\n",
    "\n",
    "# filling the matrix with the right values\n",
    "for i in range(n-1):\n",
    "    m[i+1, i] = 2\n",
    "    m[i, i+1] = -(i+1)"
   ]
  },
  {
   "cell_type": "code",
   "execution_count": 60,
   "metadata": {
    "collapsed": true
   },
   "outputs": [],
   "source": [
    "# creating a list of higher powers of the matrix m\n",
    "# these represent matrices for finding\n",
    "# +2 hermite polynomial, + 3 hermite polynomial, etc\n",
    "L = [m]\n",
    "\n",
    "# finding the matrices upto +(n) polynomial \n",
    "for i in range(2, n+1):\n",
    "    L.append( m * L[-1])\n"
   ]
  },
  {
   "cell_type": "code",
   "execution_count": 61,
   "metadata": {
    "collapsed": true
   },
   "outputs": [],
   "source": [
    "# function to calculate percentage of non-zero values in sq matrix\n",
    "def percent_full (m):\n",
    "    count = 0\n",
    "    for i in range(len(m)):\n",
    "        for j in range(len(m)):\n",
    "            if m[i, j] != 0:\n",
    "                count += 1\n",
    "    return count/(len(m)*len(m))"
   ]
  },
  {
   "cell_type": "code",
   "execution_count": 62,
   "metadata": {
    "collapsed": true
   },
   "outputs": [],
   "source": [
    "# creating the data to plot\n",
    "X = [i+1 for i in range(n)] # the count\n",
    "Y = [percent_full(L[x-1]) for x in X] # percentage of matrix that is full"
   ]
  },
  {
   "cell_type": "code",
   "execution_count": 63,
   "metadata": {},
   "outputs": [
    {
     "data": {
      "image/png": "[encoded data removed]",
      "text/plain": [
       "<matplotlib.figure.Figure at 0x114110898>"
      ]
     },
     "metadata": {},
     "output_type": "display_data"
    }
   ],
   "source": [
    "plt.plot(X, Y)\n",
    "plt.show()"
   ]
  },
  {
   "cell_type": "markdown",
   "metadata": {},
   "source": [
    "# Conclusion\n",
    "\n",
    "The matrix which obtains the immediately next hermite polynomial has only diagonals with non-zero values, one above the principle diagonal and one below. However, the higher order matrices that compute the higher matrices have more values. \n",
    "\n",
    "This graph shows the fractional occupancy as $n$ increases"
   ]
  }
 ],
 "metadata": {
  "kernelspec": {
   "display_name": "Python 3",
   "language": "python",
   "name": "python3"
  },
  "language_info": {
   "codemirror_mode": {
    "name": "ipython",
    "version": 3
   },
   "file_extension": ".py",
   "mimetype": "text/x-python",
   "name": "python",
   "nbconvert_exporter": "python",
   "pygments_lexer": "ipython3",
   "version": "3.6.3"
  }
 },
 "nbformat": 4,
 "nbformat_minor": 2
}
